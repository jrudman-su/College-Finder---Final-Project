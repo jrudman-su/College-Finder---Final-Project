{
 "cells": [
  {
   "cell_type": "code",
   "execution_count": 1,
   "metadata": {},
   "outputs": [
    {
     "name": "stdout",
     "output_type": "stream",
     "text": [
      "College Finder- Find your ideal college!\n",
      "What is your name?Sam\n",
      "What is your gpa?3.76\n"
     ]
    },
    {
     "ename": "NameError",
     "evalue": "name 'school_data' is not defined",
     "output_type": "error",
     "traceback": [
      "\u001b[0;31m---------------------------------------------------------------------------\u001b[0m",
      "\u001b[0;31mNameError\u001b[0m                                 Traceback (most recent call last)",
      "\u001b[0;32m<ipython-input-1-d2743fc4118a>\u001b[0m in \u001b[0;36m<module>\u001b[0;34m()\u001b[0m\n\u001b[1;32m      9\u001b[0m \u001b[0mGPA\u001b[0m \u001b[0;34m=\u001b[0m \u001b[0mfloat\u001b[0m\u001b[0;34m(\u001b[0m\u001b[0minput\u001b[0m\u001b[0;34m(\u001b[0m\u001b[0;34m'What is your gpa?'\u001b[0m\u001b[0;34m)\u001b[0m\u001b[0;34m)\u001b[0m\u001b[0;34m\u001b[0m\u001b[0m\n\u001b[1;32m     10\u001b[0m \u001b[0;32mtry\u001b[0m\u001b[0;34m:\u001b[0m\u001b[0;34m\u001b[0m\u001b[0m\n\u001b[0;32m---> 11\u001b[0;31m     \u001b[0mgpa_list\u001b[0m \u001b[0;34m=\u001b[0m \u001b[0mschool_data\u001b[0m\u001b[0;34m[\u001b[0m\u001b[0;34m[\u001b[0m\u001b[0;34m'GPA'\u001b[0m\u001b[0;34m]\u001b[0m\u001b[0;34m<\u001b[0m\u001b[0mGPA\u001b[0m\u001b[0;34m]\u001b[0m\u001b[0;34m\u001b[0m\u001b[0m\n\u001b[0m\u001b[1;32m     12\u001b[0m \u001b[0;32mexcept\u001b[0m \u001b[0mTypeError\u001b[0m\u001b[0;34m:\u001b[0m\u001b[0;34m\u001b[0m\u001b[0m\n\u001b[1;32m     13\u001b[0m     \u001b[0mprint\u001b[0m\u001b[0;34m(\u001b[0m\u001b[0;34m'Please enter GPA'\u001b[0m\u001b[0;34m)\u001b[0m\u001b[0;34m\u001b[0m\u001b[0m\n",
      "\u001b[0;31mNameError\u001b[0m: name 'school_data' is not defined"
     ]
    }
   ],
   "source": [
    "\n",
    "print('College Finder- Find your ideal college!')\n",
    "#School,GPA,Score_ACT,Score_SAT,Size,Region\n",
    "\n",
    "#import pandas\n",
    "#import numpy \n",
    "#school data = read api csv file\n",
    "name = input('What is your name?')\n",
    "GPA = float(input('What is your gpa?'))\n",
    "try: \n",
    "    gpa_list = school_data[['GPA']<GPA]\n",
    "except TypeError:\n",
    "    print('Please enter GPA')\n",
    "    #note, eventually we want to have the program continue and ignore the GPA filter using the continue command\n",
    "\n",
    "test_scores = float(input(\"What is your total test scores?\"))\n",
    "if test_scores>36:\n",
    "    testscorelist = gpa_list[['Score_SAT']>test_scores]\n",
    "if testscores <= 36:\n",
    "    testscorelist = gpa_list[['Score_ACT']>testscores]\n",
    "else:\n",
    "        print(\"Error handeling here tbd\")\n",
    "ideal_size = int(input(\"How big is your dream school? please enter integers with no commas.\"))\n",
    "if ideal_size> 50000:\n",
    "    ideal_size_list = testscorelist[['ideal_size']>ideal_size]\n",
    "#elif:\n",
    "        #repeat for medium large school: 20000-50000\n",
    "        #repeat for medium small school: 5000-20000\n",
    "        #repeat for small school: 50000 or less\n",
    "#else:\n",
    "        #error handeling\n",
    "ideal_location = input(name, 'where in USA would be your prefered region?')\n",
    "idealschool = ideal_size_list[['Region'] == 'ideal_location']\n",
    "    # error handeling will be here as well\n",
    "\n",
    "    \n",
    "print('%s, based on what you entered, we recommend these schools for you!'%name)\n",
    "print(idealschool.sample(10))\n",
    "        \n",
    "        \n",
    "        \n"
   ]
  },
  {
   "cell_type": "code",
   "execution_count": null,
   "metadata": {},
   "outputs": [],
   "source": []
  }
 ],
 "metadata": {
  "kernelspec": {
   "display_name": "Python 3",
   "language": "python",
   "name": "python3"
  },
  "language_info": {
   "codemirror_mode": {
    "name": "ipython",
    "version": 3
   },
   "file_extension": ".py",
   "mimetype": "text/x-python",
   "name": "python",
   "nbconvert_exporter": "python",
   "pygments_lexer": "ipython3",
   "version": "3.6.3"
  }
 },
 "nbformat": 4,
 "nbformat_minor": 2
}
