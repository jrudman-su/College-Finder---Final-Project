{
 "cells": [
  {
   "cell_type": "code",
   "execution_count": 1,
   "metadata": {},
   "outputs": [
    {
     "name": "stdout",
     "output_type": "stream",
     "text": [
      "Ready To Go To College?\n"
     ]
    }
   ],
   "source": [
    "# start by importing the modules we will need\n",
    "import requests\n",
    "import json  #we will use these later in retrieving geodata and plotting university locations using openstreetmaps\n",
    "import folium\n",
    "import numpy as np\n",
    "import cufflinks as cf\n",
    "import pandas as pd #These allow us to open our data in a pandas data frame\n",
    "import warnings\n",
    "warnings.filterwarnings('ignore')\n",
    "from IPython.display import display\n",
    "print(\"Ready to go to college?\".title())"
   ]
  },
  {
   "cell_type": "code",
   "execution_count": 2,
   "metadata": {},
   "outputs": [],
   "source": [
    "CENTER_US = (39.8333333,-98.585522)\n",
    "#london = (51.5074, -0.1278)\n",
    "map = folium.Map(location=CENTER_US, zoom_start=4)"
   ]
  },
  {
   "cell_type": "code",
   "execution_count": 3,
   "metadata": {},
   "outputs": [
    {
     "name": "stdout",
     "output_type": "stream",
     "text": [
      "Help on built-in function exit in module sys:\n",
      "\n",
      "exit(...)\n",
      "    exit([status])\n",
      "    \n",
      "    Exit the interpreter by raising SystemExit(status).\n",
      "    If the status is omitted or None, it defaults to zero (i.e., success).\n",
      "    If the status is an integer, it will be used as the system exit status.\n",
      "    If it is another kind of object, it will be printed and the system\n",
      "    exit status will be one (i.e., failure).\n",
      "\n"
     ]
    }
   ],
   "source": [
    "import sys\n",
    "from sys import exit\n",
    "\n",
    "help(exit)"
   ]
  },
  {
   "cell_type": "code",
   "execution_count": null,
   "metadata": {},
   "outputs": [],
   "source": [
    "#accepted_states = ['Alabama','Alaska','Arizona','Arkansas' ,'California' ,'Colorado','Connecticut', 'Delaware','Florida','Georgia']\n",
    "state = input('Enter State: ex. NewYork ')\n",
    "try:\n",
    "    state = pd.read_csv(state)\n",
    "except FileNotFoundError:\n",
    "    print('Please re-run and follow the correct format. Enter the state in title format. If the state has two words, ignore the space.')\n",
    "    print(\"For example: Connecticut, NewYork, NewJersey, etc.\")\n",
    "    try:\n",
    "        state = input('Enter State: ex. NewYork ')\n",
    "        state = pd.read_csv(state)\n",
    "    except FileNotFoundError:\n",
    "        exit(0)\n",
    "        print(\"Follow instructions!\")\n",
    "    \n",
    "\n",
    "    #while True:\n",
    "        #state = input('Enter State: ex. NewYork ')\n",
    "        #if state is not in accepted_states:\n",
    "            #break\n",
    "        #else:\n",
    "            #state = pd.read_csv(state)\n",
    "#Add column based on size\n",
    "state['size'] = np.nan\n",
    "state['size'][state['Student population']>15000] = 'large'\n",
    "state['size'][state['Student population']<=15000] = 'medium'\n",
    "state['size'][state['Student population'] <=5000] = 'small'\n",
    "state\n",
    "\n",
    "display(state)\n",
    "#filter by type of institution\n",
    "college_types = list(state['Type'].value_counts().index)\n",
    "i = 1\n",
    "for types in college_types:\n",
    "    print(i,types)\n",
    "    i = i + 1\n",
    "choice = input ('What type of university are you interested in? Enter the correspondong number (1 - 6). If you have no preference, just hit enter. ')\n",
    "try:\n",
    "    if choice == '':\n",
    "        state2 = state\n",
    "    else:\n",
    "        choice = int(choice)#convert choice into an integer that corresponds to the menu options\n",
    "        choice_value = college_types[choice-1]\n",
    "        state2 = state[state['Type']==choice_value]\n",
    "    display(state2)\n",
    "except ValueError:\n",
    "    print('I am assuming you have no preference then. I guess we can move on.')\n",
    "    state2 = state\n",
    "\n",
    "#filter by surrounding area\n",
    "surrounding_area = list(state2['Campus setting'].value_counts().index)\n",
    "i = 1\n",
    "for types in surrounding_area:\n",
    "    print(i,types)\n",
    "    i = i + 1\n",
    "area = input ('What setting would you like the campus to be in? Please choose from the menu by entering the corresponding number or press enter if you have no preference.')\n",
    "try:\n",
    "    if area == '':\n",
    "        state3 = state2\n",
    "    else:\n",
    "        area = int(area)\n",
    "        setting_preference = surrounding_area[area-1]\n",
    "        state3 = state2[state2['Campus setting']==setting_preference]\n",
    "    display(state3)\n",
    "except ValueError:\n",
    "    print('I am assuming you have no preference then. I guess we can move on.')\n",
    "    state3=state2\n",
    "\n",
    "#filter by size\n",
    "college_sizes = list(state3['size'].value_counts().index)\n",
    "i = 1\n",
    "for types in college_sizes:\n",
    "    print(i,types)\n",
    "    i = i + 1\n",
    "print('FYI: Large schools are over 15000. Small schools are less than 5000. Medium schools are in the middle.')\n",
    "size_preference = input(\"How big do you want your university to be? Above are your options. Press enter if you have no preference.\")\n",
    "try:\n",
    "    if size_preference == '':\n",
    "        state4 = state3\n",
    "    else:\n",
    "        size_preference= int(size_preference) \n",
    "        size = college_sizes[size_preference -1]\n",
    "        state4=state3[state3['size']==size]\n",
    "    display(state4)\n",
    "except ValueError:\n",
    "    print('I am assuming you have no preference then. I guess we can move on.')\n",
    "    state4=state3\n",
    "\n",
    "#filter by on campus housing\n",
    "campus_housing = input('Do you want campus housing? Yes or no or type anything you do not have a preference. ')\n",
    "campus_housing = campus_housing.capitalize()\n",
    "\n",
    "if campus_housing == 'Yes':\n",
    "    state5 = state4[state4['Campus housing'] == 'Yes']\n",
    "    display(state5)\n",
    "elif campus_housing == 'No':\n",
    "    state5 = state4[state4['Campus housing'] == 'No']\n",
    "    display(state5)\n",
    "else: \n",
    "    state5 = state4\n",
    "    display(state5)    \n"
   ]
  },
  {
   "cell_type": "code",
   "execution_count": 8,
   "metadata": {},
   "outputs": [
    {
     "data": {
      "text/html": [
       "<div>\n",
       "<style scoped>\n",
       "    .dataframe tbody tr th:only-of-type {\n",
       "        vertical-align: middle;\n",
       "    }\n",
       "\n",
       "    .dataframe tbody tr th {\n",
       "        vertical-align: top;\n",
       "    }\n",
       "\n",
       "    .dataframe thead th {\n",
       "        text-align: right;\n",
       "    }\n",
       "</style>\n",
       "<table border=\"1\" class=\"dataframe\">\n",
       "  <thead>\n",
       "    <tr style=\"text-align: right;\">\n",
       "      <th></th>\n",
       "      <th>Location</th>\n",
       "      <th>Name</th>\n",
       "      <th>Website</th>\n",
       "    </tr>\n",
       "  </thead>\n",
       "  <tbody>\n",
       "    <tr>\n",
       "      <th>47</th>\n",
       "      <td>9001 Stockdale Hwy, Bakersfield, California 93...</td>\n",
       "      <td>California State University-Bakersfield</td>\n",
       "      <td>www.csub.edu</td>\n",
       "    </tr>\n",
       "  </tbody>\n",
       "</table>\n",
       "</div>"
      ],
      "text/plain": [
       "                                             Location  \\\n",
       "47  9001 Stockdale Hwy, Bakersfield, California 93...   \n",
       "\n",
       "                                       Name       Website  \n",
       "47  California State University-Bakersfield  www.csub.edu  "
      ]
     },
     "metadata": {},
     "output_type": "display_data"
    },
    {
     "data": {
      "text/html": [
       "<div style=\"width:100%;\"><div style=\"position:relative;width:100%;height:0;padding-bottom:60%;\"><iframe src=\"data:text/html;charset=utf-8;base64,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\" style=\"position:absolute;width:100%;height:100%;left:0;top:0;border:none !important;\" allowfullscreen webkitallowfullscreen mozallowfullscreen></iframe></div></div>"
      ],
      "text/plain": [
       "<folium.folium.Map at 0x1087f1278>"
      ]
     },
     "metadata": {},
     "output_type": "display_data"
    }
   ],
   "source": [
    "school_data= pd.DataFrame({'Name':state4['Name'],\n",
    "              'Location':state4['Address'],'Website': state4['Website']})\n",
    "display(school_data)\n",
    "#list(school_data)\n",
    "\n",
    "#created a new data frame with the information we want. \n",
    "\n",
    "\n",
    "\n",
    "def get_coordinates_using_google(location):\n",
    "    url = 'http://maps.googleapis.com/maps/api/geocode/json'\n",
    "    options = { 'address' : location }  \n",
    "    response = requests.get(url, params = options)            \n",
    "    geodata = response.json()\n",
    "    coords = geodata['results'][0]['geometry']['location']\n",
    "    return coords\n",
    "try:\n",
    "    for index, each_school in school_data.iterrows():\n",
    "        location = each_school['Location']\n",
    "        coords = get_coordinates_using_google(location)\n",
    "        name = str(each_school['Name'])\n",
    "        website = str(each_school['Website'])\n",
    "        #print(name, website, coords)\n",
    "        pos = (coords['lat'],coords['lng'])\n",
    "        message = \"%s: %s\" % (name,website)\n",
    "        i=i+1\n",
    "        marker = folium.CircleMarker(location=pos,\n",
    "                                    popup=message,\n",
    "                                    color='#3226cc'\n",
    "                                    )\n",
    "        map.add_children(marker)\n",
    "    display(map)  \n",
    "except IndexError:\n",
    "    print(\"Try running me again.\")\n"
   ]
  },
  {
   "cell_type": "code",
   "execution_count": 9,
   "metadata": {},
   "outputs": [
    {
     "name": "stdout",
     "output_type": "stream",
     "text": [
      "Stay tuned for next update!\n"
     ]
    }
   ],
   "source": [
    "i = 0\n",
    "\n",
    "all_data= pd.DataFrame({'Name':state['Name'],\n",
    "              'Location':state['Address'],'Website': state['Website']})\n",
    "def get_coordinates_using_google(location):\n",
    "    url = 'http://maps.googleapis.com/maps/api/geocode/json'\n",
    "    options = { 'address' : location }  \n",
    "    response = requests.get(url, params = options)            \n",
    "    geodata = response.json()\n",
    "    coords = geodata['results'][0]['geometry']['location']\n",
    "    return coords\n",
    "try:\n",
    "    for index, each_school in all_data.iterrows():\n",
    "        location = each_school['Location']\n",
    "        coords = get_coordinates_using_google(location)\n",
    "        name = str(each_school['Name'])\n",
    "        website = str(each_school['Website'])\n",
    "        #print(name, website, coords)\n",
    "        pos = (coords['lat'],coords['lng'])\n",
    "        message = \"%s: %s\" % (name,website)\n",
    "        i=i+1\n",
    "        marker = folium.CircleMarker(location=pos,\n",
    "                                    popup=message,\n",
    "                                    color='#3226cc'\n",
    "                                    )\n",
    "        map.add_children(marker)\n",
    "    display(map)  \n",
    "except IndexError:\n",
    "    print(\"Stay tuned for next update!\")\n"
   ]
  },
  {
   "cell_type": "code",
   "execution_count": null,
   "metadata": {},
   "outputs": [],
   "source": []
  }
 ],
 "metadata": {
  "kernelspec": {
   "display_name": "Python 3",
   "language": "python",
   "name": "python3"
  },
  "language_info": {
   "codemirror_mode": {
    "name": "ipython",
    "version": 3
   },
   "file_extension": ".py",
   "mimetype": "text/x-python",
   "name": "python",
   "nbconvert_exporter": "python",
   "pygments_lexer": "ipython3",
   "version": "3.6.3"
  }
 },
 "nbformat": 4,
 "nbformat_minor": 2
}
