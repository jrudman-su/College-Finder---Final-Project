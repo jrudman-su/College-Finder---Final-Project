{
 "cells": [
  {
   "cell_type": "code",
   "execution_count": null,
   "metadata": {},
   "outputs": [],
   "source": [
    "\n",
    "#Example of pulling from a database:\n",
    "url = 'http://maps.googleapis.com/maps/api/geocode/json'  \n",
    "options = { 'address' : 'Syracuse University'}            \n",
    "response = requests.get(url, params = options)            \n",
    "geodata = response.json()\n",
    "coords = geodata['results'][0]['geometry']['location']\n",
    "print(\"Address\", options)\n",
    "print(\"Coordinates\", coords)\n",
    "print(\"%s is located at (%f,%f)\" %(options['address'], coords['lat'], coords['lng']))\n",
    "\n",
    "location = input(\"Enter a location: \")\n",
    "\n",
    "url = 'http://maps.googleapis.com/maps/api/geocode/json'\n",
    "options = { 'address' : location } \n",
    "response = requests.get(url, params = options)            \n",
    "geodata = response.json()\n",
    "coords = geodata['results'][0]['geometry']['location']\n",
    "print(\"Address\", options)\n",
    "print(\"Coordinates\", coords)\n",
    "print(\"%s is located at (%f,%f)\" %(location, coords['lat'], coords['lng']))"
   ]
  }
 ],
 "metadata": {
  "kernelspec": {
   "display_name": "Python 3",
   "language": "python",
   "name": "python3"
  },
  "language_info": {
   "codemirror_mode": {
    "name": "ipython",
    "version": 3
   },
   "file_extension": ".py",
   "mimetype": "text/x-python",
   "name": "python",
   "nbconvert_exporter": "python",
   "pygments_lexer": "ipython3",
   "version": "3.6.3"
  }
 },
 "nbformat": 4,
 "nbformat_minor": 2
}
